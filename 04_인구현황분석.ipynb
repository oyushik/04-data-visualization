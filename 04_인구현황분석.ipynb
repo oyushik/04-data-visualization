{
 "cells": [
  {
   "cell_type": "code",
   "execution_count": null,
   "id": "2666e6d1",
   "metadata": {},
   "outputs": [],
   "source": [
    "import pandas as pd\n",
    "import matplotlib\n",
    "import matplotlib.pyplot as plt\n",
    "import matplotlib.font_manager as fm\n",
    "import seaborn as sns"
   ]
  },
  {
   "cell_type": "code",
   "execution_count": null,
   "id": "7f3df2aa",
   "metadata": {},
   "outputs": [],
   "source": [
    "font_path = 'C:\\\\windows\\\\Fonts\\\\malgun.ttf'\n",
    "font_prop = fm.FontProperties(fname=font_path).get_name()\n",
    "print(font_prop)\n",
    "matplotlib.rc('font', family=font_prop)"
   ]
  },
  {
   "cell_type": "code",
   "execution_count": null,
   "id": "5e5a0f53",
   "metadata": {},
   "outputs": [],
   "source": [
    "# 인구현황.csv 로드하여 DataFrame 객체생성 , 변수명은 df_all \n",
    "df_all = pd.read_csv('data/인구현황.csv', encoding='utf-8')\n",
    "df_all.head()"
   ]
  },
  {
   "cell_type": "code",
   "execution_count": null,
   "id": "29a85f4c",
   "metadata": {},
   "outputs": [],
   "source": [
    "# 전국 데이터는 제거하고 새로운 DataFrame 생성, 변수명은 df\n",
    "df = df_all.loc[df_all['행정기관'] != '전국'].copy()\n",
    "df.head()"
   ]
  },
  {
   "cell_type": "code",
   "execution_count": null,
   "id": "5bcb454f",
   "metadata": {},
   "outputs": [],
   "source": [
    "print(\"\\n결측치 확인:\")\n",
    "print(df.isnull().sum())"
   ]
  },
  {
   "cell_type": "markdown",
   "id": "ee6b7a96",
   "metadata": {},
   "source": [
    "##### 1. 지역별 총인구수 Top5\n"
   ]
  },
  {
   "cell_type": "code",
   "execution_count": null,
   "id": "a0d2bde5",
   "metadata": {},
   "outputs": [],
   "source": [
    "print(\"1. 지역별 총인구수 Top5\")\n",
    "\n",
    "df[['행정기관', '총인구수']].sort_values(by='총인구수', ascending=False).head(5)\n",
    "#df.loc[:, ['행정기관', '총인구수']].sort_values(by='총인구수', ascending=False).head(5)"
   ]
  },
  {
   "cell_type": "markdown",
   "id": "f678ddeb",
   "metadata": {},
   "source": [
    "##### 1-1. 지역별 총인구수 Plot"
   ]
  },
  {
   "cell_type": "code",
   "execution_count": null,
   "id": "b801a5c1",
   "metadata": {},
   "outputs": [],
   "source": [
    "plt.figure(figsize=(10,5))\n",
    "# plt.subplots(nrows=1, ncols=1)\n",
    "\n",
    "# seaborn의 barplot() 함수사용\n",
    "sns.barplot(x='행정기관', y='총인구수', data=df.sort_values(by='총인구수',ascending=False), hue='행정기관')\n",
    "plt.xticks(rotation=45)\n",
    "plt.title('지역별 총인구수')\n",
    "plt.tight_layout()\n",
    "plt.show()"
   ]
  },
  {
   "cell_type": "markdown",
   "id": "d082c2f7",
   "metadata": {},
   "source": [
    "##### 2. 세대당 인구수 높은 지역 Top5"
   ]
  },
  {
   "cell_type": "code",
   "execution_count": null,
   "id": "6b30374f",
   "metadata": {},
   "outputs": [],
   "source": [
    "# df.loc[df['세대당 인구'].nlargest(5).index, ['행정기관', '세대당 인구']].reset_index(drop=True)\n",
    "df[['행정기관', '세대당 인구']].sort_values(by='세대당 인구', ascending=False).head(5).reset_index(drop=True)\n",
    "\n",
    "# df_top_five_people_per_household = df.loc[df['세대당 인구'].nlargest(5).index, ['행정기관', '세대당 인구']].reset_index(drop=True)\n",
    "\n",
    "# plt.figure(figsize=(10,5))\n",
    "# plt.subplots(nrows=1, ncols=1)\n",
    "\n",
    "# # seaborn의 barplot() 함수사용\n",
    "# sns.barplot(x='행정기관', y='세대당 인구', data=df_top_five_people_per_household.sort_values(by='세대당 인구', ascending=False), hue='행정기관')\n",
    "# plt.xticks(rotation=45)\n",
    "# plt.title('세대당 인구수 높은 지역 Top5')\n",
    "# plt.tight_layout()\n",
    "# plt.show()\n"
   ]
  },
  {
   "cell_type": "markdown",
   "id": "6e012319",
   "metadata": {},
   "source": [
    "##### 2-1. 지역별 세대당 인구 Plot"
   ]
  },
  {
   "cell_type": "code",
   "execution_count": null,
   "id": "ba7d141b",
   "metadata": {},
   "outputs": [],
   "source": [
    "plt.figure(figsize=(10,5))\n",
    "plt.subplots(nrows=1, ncols=1)\n",
    "\n",
    "# seaborn의 barplot() 함수사용\n",
    "sns.barplot(x='행정기관', y='세대당 인구', data=df.sort_values(by='세대당 인구', ascending=False), hue='행정기관')\n",
    "plt.xticks(rotation=45)\n",
    "plt.title('지역별 세대당 인구 Plot')\n",
    "plt.tight_layout()\n",
    "plt.show()\n"
   ]
  },
  {
   "cell_type": "markdown",
   "id": "7cb9ee94",
   "metadata": {},
   "source": [
    "##### 3. 남녀 비율 분석"
   ]
  },
  {
   "cell_type": "code",
   "execution_count": null,
   "id": "327637bd",
   "metadata": {},
   "outputs": [],
   "source": [
    "df[['행정기관', '남여 비율']].sort_values(by='남여 비율', ascending=False).reset_index(drop=True).head(5)\n"
   ]
  },
  {
   "cell_type": "markdown",
   "id": "f1465ab3",
   "metadata": {},
   "source": [
    "##### 3-1. 지역별 남녀 비율 Plot\n",
    "* 기준이 되는 빨간선은 pyplot의 axhline() 함수를 사용해 보세요."
   ]
  },
  {
   "cell_type": "code",
   "execution_count": null,
   "id": "db44d757",
   "metadata": {},
   "outputs": [],
   "source": [
    "plt.figure(figsize=(10,5))\n",
    "plt.subplots(nrows=1, ncols=1)\n",
    "\n",
    "# seaborn의 barplot() 함수사용\n",
    "sns.barplot(x='행정기관', y='남여 비율', data=df.sort_values(by='남여 비율', ascending=False), hue='남여 비율')\n",
    "plt.axhline(1, color='r', linestyle='--')\n",
    "plt.xticks(rotation=45)\n",
    "plt.title('지역별 남녀 비율')\n",
    "plt.tight_layout()\n",
    "plt.show()\n"
   ]
  },
  {
   "cell_type": "markdown",
   "id": "4d7e1413",
   "metadata": {},
   "source": [
    "##### 4. 남자초과 / 여자초과 분석\n",
    "* 남초(남자초과) => 남자 인구가 여자 인구보다 많은 지역\t남여 비율 > 1 또는 남자 인구수 > 여자 인구수\n",
    "* 여초(여자초과) => 여자 인구가 남자 인구보다 많은 지역\t남여 비율 < 1 또는 여자 인구수 > 남자 인구수\n",
    "\n",
    "* 남초여초 컬럼을 추가합니다. "
   ]
  },
  {
   "cell_type": "code",
   "execution_count": null,
   "id": "b309c976",
   "metadata": {},
   "outputs": [],
   "source": [
    "df_sex_ratio = df[['행정기관', '남여 비율']].copy()\n",
    "df_sex_ratio['남초여초'] = df_sex_ratio['남여 비율'].apply(lambda x: '동일' if x == 1 else('남초' if x > 1 else '여초'))\n",
    "df_sex_ratio.head(10)"
   ]
  },
  {
   "cell_type": "code",
   "execution_count": null,
   "id": "bd9f947f",
   "metadata": {},
   "outputs": [],
   "source": [
    "df['남초여초'].value_counts()"
   ]
  },
  {
   "cell_type": "markdown",
   "id": "ad01cf97",
   "metadata": {},
   "source": [
    "##### 5. 세대당 인구 평균보다 높은 지역"
   ]
  },
  {
   "cell_type": "code",
   "execution_count": null,
   "id": "c3aeb389",
   "metadata": {},
   "outputs": [],
   "source": [
    "print(\"5. 세대당 인구 평균보다 높은 지역\")\n",
    "avg_people_per_household = round(df['세대당 인구'].mean(), 2)\n",
    "print(f\"전국 평균 세대당 인구수: {avg_people_per_household}\")\n",
    "\n",
    "df.loc[df['세대당 인구'] > avg_people_per_household, ['행정기관', '세대당 인구']].reset_index(drop=True)\n"
   ]
  },
  {
   "cell_type": "markdown",
   "id": "1f48dab8",
   "metadata": {},
   "source": [
    "##### 5-1. 남초 vs 여초 개수 Plot  /  지역별 세대수 Plot"
   ]
  },
  {
   "cell_type": "code",
   "execution_count": null,
   "id": "9e228689",
   "metadata": {},
   "outputs": [],
   "source": [
    "# 1x2 subplot 생성 (1행 2열의 플롯 영역)\n",
    "fig, axes = plt.subplots(2,1, figsize=(10, 5)) # figsize로 전체 Figure 크기 조절\n",
    "\n",
    "# 첫 번째 플롯 (countplot)\n",
    "plot_01 = sns.countplot(data=df_sex_ratio, x='남초여초', hue='남초여초', ax=axes[0]) # axes[0]에 그림\n",
    "plot_01.set_title('남초 vs 여초 지역 개수')\n",
    "\n",
    "# 두 번째 플롯 (barplot)\n",
    "plot_02 = sns.barplot(x='행정기관', y='세대당 인구', data=df.sort_values(by='세대당 인구', ascending=False), ax=axes[1], hue='행정기관') # axes[1]에 그림\n",
    "plot_02.set_title('지역별 세대수')\n",
    "plt.xticks(rotation=45)\n",
    "plt.tight_layout()\n",
    "plt.show()\n"
   ]
  },
  {
   "cell_type": "markdown",
   "id": "a57ee850",
   "metadata": {},
   "source": [
    "##### 6. 남자 인구 vs 여자 인구 비교 Plot"
   ]
  },
  {
   "cell_type": "code",
   "execution_count": null,
   "id": "b47ed475",
   "metadata": {},
   "outputs": [],
   "source": [
    "print(\"6. 남자 인구 vs 여자 인구 비교\")\n",
    "\n",
    "plt.figure(figsize=(15,7))\n",
    "df.loc[:,['행정기관', '남자 인구수', '여자 인구수']].plot(kind='bar', x='행정기관', figsize=(15,7))\n",
    "\n",
    "plt.title('남자 vs 여자 인구 비교')\n",
    "plt.xticks(rotation=45)\n",
    "plt.tight_layout()\n",
    "plt.show()"
   ]
  },
  {
   "cell_type": "code",
   "execution_count": null,
   "id": "0b0cdc3d",
   "metadata": {},
   "outputs": [],
   "source": [
    "import seaborn as sns\n",
    "import matplotlib.pyplot as plt\n",
    "\n",
    "# melt 로 데이터 형태 변환 (long-form)\n",
    "df_melt = df.melt(id_vars='행정기관', value_vars=['남자 인구수', '여자 인구수'], \n",
    "                  var_name='성별', value_name='인구수')\n",
    "\n",
    "df_melt"
   ]
  },
  {
   "cell_type": "code",
   "execution_count": null,
   "id": "ea5b5fb0",
   "metadata": {},
   "outputs": [],
   "source": [
    "figure, ax1 = plt.subplots(nrows=1, ncols=1)\n",
    "figure.set_size_inches(18,12)\n",
    "\n",
    "# seaborn barplot\n",
    "pop_plot = sns.barplot(data=df_melt, x='행정기관', y='인구수', hue='성별',ax=ax1)\n",
    "pop_plot.set_title('남자 vs 여자 인구 비교')\n",
    "\n",
    "for item in ax1.get_xticklabels(): \n",
    "    item.set_rotation(45)\n",
    "\n",
    "#plt.title('남자 vs 여자 인구 비교')\n",
    "#plt.xticks(rotation=45)\n",
    "plt.tight_layout()\n",
    "plt.show()"
   ]
  },
  {
   "cell_type": "markdown",
   "id": "b4ea0081",
   "metadata": {},
   "source": [
    "### 엑셀 리포트 자동 생성 코드"
   ]
  },
  {
   "cell_type": "code",
   "execution_count": null,
   "id": "3b5ce0c6",
   "metadata": {},
   "outputs": [],
   "source": [
    "# 엑셀 저장용\n",
    "from pandas import ExcelWriter\n",
    "from datetime import datetime\n",
    "\n",
    "# 분석 데이터 준비\n",
    "top5_population = df[['행정기관', '총인구수']].sort_values(by='총인구수', ascending=False).head(5)\n",
    "top5_family = df[['행정기관', '세대당 인구']].sort_values(by='세대당 인구', ascending=False).head(5)\n",
    "male_vs_female = df[['행정기관', '남자 인구수', '여자 인구수']]\n",
    "\n",
    "# 남초/여초 컬럼 추가\n",
    "df['남초여초'] = df['남여 비율'].apply(lambda x: '남초' if x > 1 else ('여초' if x < 1 else '동일'))\n",
    "\n",
    "today = datetime.now().strftime('%Y%m%d')\n",
    "filename = f'data/인구분석리포트_{today}.xlsx'\n",
    "\n",
    "# Excel 파일로 저장\n",
    "with ExcelWriter(filename, engine='openpyxl') as writer:\n",
    "    df.to_excel(writer, sheet_name='원본데이터', index=False)\n",
    "    top5_population.to_excel(writer, sheet_name='총인구 Top5', index=False)\n",
    "    top5_family.to_excel(writer, sheet_name='세대당 인구 Top5', index=False)\n",
    "    male_vs_female.to_excel(writer, sheet_name='남자vs여자', index=False)\n",
    "    \n",
    "print(\"엑셀 리포트 저장 완료 → '인구분석리포트.xlsx'\")\n"
   ]
  },
  {
   "cell_type": "code",
   "execution_count": null,
   "id": "e610896e",
   "metadata": {},
   "outputs": [],
   "source": [
    "# 남녀 인구 차이 컬럼 추가\n",
    "df['남여차이'] = abs(df['남자 인구수'] - df['여자 인구수'])\n",
    "\n",
    "# 남녀 비율 TOP5 (남초)\n",
    "male_dom = df.sort_values(by='남여 비율', ascending=False).head(5)\n",
    "\n",
    "# 남녀 비율 TOP5 (여초)\n",
    "female_dom = df.sort_values(by='남여 비율', ascending=True).head(5)\n",
    "\n",
    "# 세대당 인구 TOP5 (가구당 인구 많은 지역)\n",
    "big_family = df.sort_values(by='세대당 인구', ascending=False).head(5)\n",
    "\n",
    "# 세대수 대비 총인구 비율\n",
    "df['인구/세대'] = df['총인구수'] / df['세대수']\n",
    "\n",
    "# 수도권 vs 비수도권 비교\n",
    "capital = df[df['행정기관'].isin(['서울특별시', '경기도', '인천광역시'])]\n",
    "non_capital = df[~df['행정기관'].isin(['서울특별시', '경기도', '인천광역시'])]\n"
   ]
  },
  {
   "cell_type": "code",
   "execution_count": null,
   "id": "a6725b9b",
   "metadata": {},
   "outputs": [],
   "source": [
    "df.head()"
   ]
  },
  {
   "cell_type": "code",
   "execution_count": null,
   "id": "c5fd1863",
   "metadata": {},
   "outputs": [],
   "source": [
    "\n",
    "print(\"남초 TOP5\")\n",
    "male_dom[['행정기관','남여 비율']].reset_index(drop=True)\n"
   ]
  },
  {
   "cell_type": "code",
   "execution_count": null,
   "id": "172272b5",
   "metadata": {},
   "outputs": [],
   "source": [
    "\n",
    "print(\"여초 TOP5\")\n",
    "female_dom[['행정기관','남여 비율']].reset_index(drop=True)\n"
   ]
  },
  {
   "cell_type": "code",
   "execution_count": null,
   "id": "3b3c1171",
   "metadata": {},
   "outputs": [],
   "source": [
    "\n",
    "print(\"세대당 인구 많은 TOP5\")\n",
    "big_family[['행정기관','세대당 인구']].reset_index(drop=True)\n"
   ]
  },
  {
   "cell_type": "code",
   "execution_count": null,
   "id": "0f89f3aa",
   "metadata": {},
   "outputs": [],
   "source": [
    "\n",
    "print(\"수도권 평균 세대당 인구:\", capital['세대당 인구'].mean())\n",
    "print(\"비수도권 평균 세대당 인구:\", non_capital['세대당 인구'].mean())"
   ]
  },
  {
   "cell_type": "code",
   "execution_count": null,
   "id": "89cc5191",
   "metadata": {},
   "outputs": [],
   "source": [
    "# 전국 총인구수\n",
    "total_population = df_all[df_all['행정기관'] == '전국']['총인구수'].values[0]\n",
    "\n",
    "# 인구비율(%) 컬럼 추가하기\n",
    "df['인구비율(%)'] = df['총인구수'] / total_population * 100\n",
    "\n",
    "df"
   ]
  },
  {
   "cell_type": "code",
   "execution_count": null,
   "id": "906e1cb7",
   "metadata": {},
   "outputs": [],
   "source": [
    "# 전국 제외\n",
    "df_plot = df.sort_values(by='인구비율(%)', ascending=False)\n",
    "df_plot"
   ]
  },
  {
   "cell_type": "code",
   "execution_count": null,
   "id": "95537e6e",
   "metadata": {},
   "outputs": [],
   "source": [
    "\n",
    "# 시각화\n",
    "plt.figure(figsize=(12, 8))\n",
    "bars = plt.barh(df_plot['행정기관'], df_plot['인구비율(%)'], color='cornflowerblue')\n",
    "\n",
    "plt.xlabel('인구비율 (%)')\n",
    "plt.title('행정기관별 인구 비율')\n",
    "\n",
    "# 값 표시\n",
    "for bar in bars:\n",
    "    plt.text(bar.get_width() + 0.1, bar.get_y() + bar.get_height()/2,\n",
    "             f\"{bar.get_width():.2f}%\", va='center')\n",
    "\n",
    "plt.gca().invert_yaxis()\n",
    "plt.show()"
   ]
  }
 ],
 "metadata": {
  "kernelspec": {
   "display_name": "base",
   "language": "python",
   "name": "python3"
  },
  "language_info": {
   "codemirror_mode": {
    "name": "ipython",
    "version": 3
   },
   "file_extension": ".py",
   "mimetype": "text/x-python",
   "name": "python",
   "nbconvert_exporter": "python",
   "pygments_lexer": "ipython3",
   "version": "3.12.7"
  }
 },
 "nbformat": 4,
 "nbformat_minor": 5
}
