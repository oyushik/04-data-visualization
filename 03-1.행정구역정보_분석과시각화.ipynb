{
 "cells": [
  {
   "cell_type": "markdown",
   "id": "8a508f6f",
   "metadata": {},
   "source": [
    "### 행정구역 정보 분석 및 시각화\n",
    "1. pandas의 read_csv() 함수로 csv file을 읽어서 DataFrame 객체로 생성하고 데이터 확인하기\n",
    "2. Data Selection : loc[] / iloc[] 를 사용해서 특정 Row와 Column 선택하기\n",
    "3. 컬럼명 변경하기\n",
    "4. DataFrame 객체를 Excel file로 저장하기\n",
    "5. Data Grouping : groupby() 함수를 사용해서 그룹핑하기\n",
    "6. 상관관계 분석 : corr() 함수를 사용해서 인구수와 면적간의 상관관계 \n",
    "7. 시각화 : seaborn의 barplot() 함수를 사용해서 Plot 그리기"
   ]
  },
  {
   "cell_type": "code",
   "execution_count": null,
   "id": "72fd066e",
   "metadata": {},
   "outputs": [],
   "source": [
    "import pandas as pd\n",
    "print(pd.__version__)"
   ]
  },
  {
   "cell_type": "markdown",
   "id": "a76a21f9",
   "metadata": {},
   "source": [
    "##### pandas의 read_csv() 함수로 csv file을 읽어서 DataFrame 객체로 생성하고 데이터 확인하기"
   ]
  },
  {
   "cell_type": "code",
   "execution_count": null,
   "id": "d1d42e86-a7fd-4c98-844b-559819f5026e",
   "metadata": {},
   "outputs": [],
   "source": [
    "data = pd.read_csv('data/data_draw_korea.csv')\n",
    "print(data.shape)\n",
    "print(type(data))\n",
    "data.head()"
   ]
  },
  {
   "cell_type": "code",
   "execution_count": null,
   "id": "6ee3dba2-18e8-4839-974c-c2b3bfeb3720",
   "metadata": {},
   "outputs": [],
   "source": [
    "# head() 함수\n",
    "data.head(3)"
   ]
  },
  {
   "cell_type": "code",
   "execution_count": null,
   "id": "0a6bec82-6004-4fbd-ad14-10bd80ad9463",
   "metadata": {},
   "outputs": [],
   "source": [
    "# tail() 함수\n",
    "data.tail()"
   ]
  },
  {
   "cell_type": "code",
   "execution_count": null,
   "id": "797cc7e6-b80d-4b4c-87dc-fe313c4b3879",
   "metadata": {},
   "outputs": [],
   "source": [
    "# sample() 함수\n",
    "data.sample(2)"
   ]
  },
  {
   "cell_type": "code",
   "execution_count": null,
   "id": "b0963c6a-05b9-439e-9c0e-113475c0b5ad",
   "metadata": {},
   "outputs": [],
   "source": [
    "# 컬렴명 확인하기\n",
    "print(f'컬럼명 = {data.columns}')\n",
    "# 인덱스 확인하기\n",
    "print(f'인덱스 = {data.index}')"
   ]
  },
  {
   "cell_type": "code",
   "execution_count": null,
   "id": "74d834a9-6c9c-4d71-bcfd-ff96358d1a5f",
   "metadata": {},
   "outputs": [],
   "source": [
    "# values 속성으로 값 확인하기\n",
    "print(type(data.values))\n",
    "data.values"
   ]
  },
  {
   "cell_type": "code",
   "execution_count": null,
   "id": "006ce306-4291-4e02-b1d4-f67637f4e4bc",
   "metadata": {},
   "outputs": [],
   "source": [
    "# info() 함수\n",
    "data.info()"
   ]
  },
  {
   "cell_type": "code",
   "execution_count": null,
   "id": "ba1af643-c355-428d-a3d9-3fea85635bb8",
   "metadata": {},
   "outputs": [],
   "source": [
    "# 모든 컬럼의 타입 확인\n",
    "data.dtypes"
   ]
  },
  {
   "cell_type": "code",
   "execution_count": null,
   "id": "b1a09fbd-f8d7-4c96-949e-8512705c13d4",
   "metadata": {},
   "outputs": [],
   "source": [
    "# 면적 컬럼의 타입을 확인\n",
    "print(type(data['면적']))\n",
    "data['면적'].dtype"
   ]
  },
  {
   "cell_type": "code",
   "execution_count": null,
   "id": "3820a2a8-1a10-4723-9bb1-adf8931a92a0",
   "metadata": {},
   "outputs": [],
   "source": [
    "# 특정컬럼(인구수)의 타입 확인\n",
    "print(type(data['인구수']))\n",
    "data['인구수'].dtype"
   ]
  },
  {
   "cell_type": "code",
   "execution_count": null,
   "id": "ce3ab3e6",
   "metadata": {},
   "outputs": [],
   "source": [
    "import numpy as np\n",
    "data.describe(include=[np.number])"
   ]
  },
  {
   "cell_type": "code",
   "execution_count": null,
   "id": "a210e7d6-8d06-4f29-b1fe-133091afd449",
   "metadata": {},
   "outputs": [],
   "source": [
    "# describe() 함수, 숫자 타입인 컬럼의 통계함수 출력\n",
    "data.describe()"
   ]
  },
  {
   "cell_type": "code",
   "execution_count": null,
   "id": "c979b4b5-19f4-48b9-bfdd-b6eaf292df77",
   "metadata": {},
   "outputs": [],
   "source": [
    "# describe() 함수, 문자열(object) 타입인 컬럼의 통계함수 출력\n",
    "data.describe(include=[object])"
   ]
  },
  {
   "cell_type": "code",
   "execution_count": null,
   "id": "192bae16-efa4-4774-a805-f242354d1262",
   "metadata": {},
   "outputs": [],
   "source": [
    "data['행정구역'] == '동구'"
   ]
  },
  {
   "cell_type": "code",
   "execution_count": null,
   "id": "4bb255e6-ac02-4d27-94f1-e15427e25958",
   "metadata": {},
   "outputs": [],
   "source": [
    "# 해당 조건식과 매칭되는 Row data 출력\n",
    "data.loc[data['행정구역'] == '동구']"
   ]
  },
  {
   "cell_type": "code",
   "execution_count": null,
   "id": "a45c2f11-53aa-40dc-ad9c-946374e7ce55",
   "metadata": {},
   "outputs": [],
   "source": [
    "# '광역시도' == '경기도'\n",
    "data.loc[data['광역시도'] == '경기도'].reset_index(drop=True)"
   ]
  },
  {
   "cell_type": "code",
   "execution_count": null,
   "id": "5d62af4b-95a6-4b0c-a09d-ee42f2f42810",
   "metadata": {},
   "outputs": [],
   "source": [
    "# describe() 함수, 모든 컬럼의 통계함수 출력\n",
    "data.describe(include='all')"
   ]
  },
  {
   "cell_type": "markdown",
   "id": "f94c11f6-b295-42a8-b3a3-d3d8c7bab370",
   "metadata": {},
   "source": [
    "### Data Selection\n",
    "* loc[] 또는 iloc[]\n",
    "* loc[Row 선택, Column 선택]"
   ]
  },
  {
   "cell_type": "code",
   "execution_count": null,
   "id": "85779811-bfa0-4d9f-a27d-79fe75dd5cd8",
   "metadata": {},
   "outputs": [],
   "source": [
    "# 인구수 1개의 컬럼 선택\n",
    "data['인구수']"
   ]
  },
  {
   "cell_type": "code",
   "execution_count": null,
   "id": "868ea353-5e04-4aa4-a368-72af489e3ced",
   "metadata": {},
   "outputs": [],
   "source": [
    "# ['행정구역','인구수','면적'] 컬럼의 데이터 출력\n",
    "data[['행정구역','인구수','면적']].head()"
   ]
  },
  {
   "cell_type": "code",
   "execution_count": null,
   "id": "261456f6",
   "metadata": {},
   "outputs": [],
   "source": [
    "# 인구수 가장 많은 행정구역 top 5\n",
    "data[['행정구역','인구수','면적']].sort_values(by='인구수',ascending=False).head().reset_index(drop=True)"
   ]
  },
  {
   "cell_type": "code",
   "execution_count": null,
   "id": "fffd220a",
   "metadata": {},
   "outputs": [],
   "source": [
    "#인구가 가장 작은 top 5\n",
    "data[['광역시도','행정구역','인구수','면적']].sort_values(by='인구수',ascending=True).head().reset_index(drop=True)"
   ]
  },
  {
   "cell_type": "code",
   "execution_count": null,
   "id": "e9661774-0ed1-4895-a092-d4a6d37e412c",
   "metadata": {},
   "outputs": [],
   "source": [
    "# 인구수 컬럼의 집계함수\n",
    "print(f\"인구수 최대값 {data['인구수'].max():,}\")\n",
    "print(f\"인구수 최소값 {data['인구수'].min():,}\")\n",
    "print(f\"인구수 평균 {round(data['인구수'].mean()):,}\")\n",
    "print(f\"인구수 표준편차 {round(data['인구수'].std()):,}\")\n",
    "print(f\"인구수 중간값 {data['인구수'].median():,}\")\n",
    "data['인구수'].quantile([0.25, 0.75])"
   ]
  },
  {
   "cell_type": "code",
   "execution_count": null,
   "id": "3ed05495-2d7c-4d31-af9f-642a988a936c",
   "metadata": {},
   "outputs": [],
   "source": [
    "# 인구수가 가장 많은 행정구역?\n",
    "# 인구수의 최대값을 max_prop 변수에 저장\n",
    "max_prop = data['인구수'].max()\n",
    "#data['인구수'] == max_prop\n",
    "data.loc[data['인구수'] == max_prop]"
   ]
  },
  {
   "cell_type": "code",
   "execution_count": null,
   "id": "029b08c0-5c9f-4481-acf4-ea50271870a5",
   "metadata": {},
   "outputs": [],
   "source": [
    "# 면적이 넓은 행정구역?\n",
    "data.loc[data['면적'] == data['면적'].max()]"
   ]
  },
  {
   "cell_type": "code",
   "execution_count": null,
   "id": "b718e64a-35ce-4b3d-b3d8-31cbbf9d6c3c",
   "metadata": {},
   "outputs": [],
   "source": [
    "# 인구수가 가장 적은 행정구역?\n",
    "data.loc[data['인구수'] == data['인구수'].min()]"
   ]
  },
  {
   "cell_type": "code",
   "execution_count": null,
   "id": "dfd2a640-379a-4bd5-84c4-446cd26a54f8",
   "metadata": {},
   "outputs": [],
   "source": [
    "# unique한 광역시도명\n",
    "print(len(data['광역시도'].unique()))\n",
    "data['광역시도'].unique()"
   ]
  },
  {
   "cell_type": "code",
   "execution_count": null,
   "id": "ccfba049-da93-4b30-a153-91f90ecfdab0",
   "metadata": {},
   "outputs": [],
   "source": [
    "# 광역시도별 Row Counting\n",
    "data['광역시도'].value_counts()"
   ]
  },
  {
   "cell_type": "code",
   "execution_count": null,
   "id": "d76bc2c0-fc43-4cd7-b756-4c84639f26c2",
   "metadata": {},
   "outputs": [],
   "source": [
    "# data['광역시도'] == '경기도' 의 ['행정구역','인구수','면적']  컬럼의 데이터 출력하기\n",
    "data.loc[data['광역시도'] == '경기도',['행정구역','인구수','면적']].sort_values(by='인구수',ascending=False).reset_index(drop=True)"
   ]
  },
  {
   "cell_type": "code",
   "execution_count": null,
   "id": "d89771f1-9447-4c11-9b24-206ba50fb7ed",
   "metadata": {},
   "outputs": [],
   "source": [
    "# data['행정구역'] == '경기도' 의 ['행정구역','인구수','면적']  컬럼의 데이터를 면적을 descending 순서대로 출력하기\n",
    "data.loc[data['광역시도'] == '경기도',['행정구역','인구수','면적']].sort_values(by='면적',ascending=False).reset_index(drop=True)"
   ]
  },
  {
   "cell_type": "code",
   "execution_count": null,
   "id": "30f997ef-a059-43ab-9509-ff2eddb42a5d",
   "metadata": {},
   "outputs": [],
   "source": [
    "#경기도에 속한 행정구역명, 인구수, 면적 선택하기 인구수를 descending 순서대로 출력하고 index reset 하여 gy_df 라는 변수에 저장하기\n",
    "#data.loc[row , col]\n",
    "gy_df = data.loc[data['광역시도'] == '경기도',['행정구역','인구수','면적']].sort_values(by='인구수',ascending=False).reset_index(drop=True)\n",
    "gy_df\n",
    "# 인구수2 라는 새로운 컬럼을 생성 , 전체 Row에 적용됨\n",
    "gy_df['인구수2'] = gy_df['인구수'].map('{:,}'.format)\n"
   ]
  },
  {
   "cell_type": "code",
   "execution_count": null,
   "id": "2d0e6931",
   "metadata": {},
   "outputs": [],
   "source": [
    "# 면적2 라는 새로운 컬럼을 생성, 전체 Row에 적용됨\n",
    "gy_df['면적2'] = gy_df['면적'].map(lambda val:f\"{val:.2f}\")\n",
    "gy_df[['면적','면적2']].head(3)"
   ]
  },
  {
   "cell_type": "code",
   "execution_count": null,
   "id": "58b3a5a8-d034-4a01-b594-e539447d1a01",
   "metadata": {},
   "outputs": [],
   "source": [
    "# 면적이 > 1000 큰 조건과 매핑되는 새로운 DataFrame 생성해서 area_1000 라는 변수에 저장하기\n",
    "area_1000 = data.loc[data['면적'] > 1000].copy()\n",
    "# area_1000 DataFrame 객체에 면적2 컬럼을 생성, 전체 Row에 적용됨\n",
    "area_1000.loc[:,'면적2'] = area_1000['면적'].map('{:,}'.format)\n"
   ]
  },
  {
   "cell_type": "code",
   "execution_count": null,
   "id": "0cc9fa73",
   "metadata": {},
   "outputs": [],
   "source": [
    "# area_1000 DataFrame 객체에 면적3 컬럼을 생성, 조건을 만족하는 Row에 적용됨\n",
    "area_1000.loc[area_1000['면적'] > 1500,'면적3'] = area_1000['면적'].map('{:,}'.format)\n",
    "\n",
    "area_1000[['행정구역','면적','면적2','면적3']]"
   ]
  },
  {
   "cell_type": "code",
   "execution_count": null,
   "id": "e7898f0c-b870-437d-8fee-30bc48e885b9",
   "metadata": {},
   "outputs": [],
   "source": [
    "#경기도 인구수의 평균과 표준편차\n",
    "print(f\"경기도 인구수 평균 = {gy_df['인구수'].mean()}\")\n",
    "print(f\"경기도 인구수 편차 = {gy_df['인구수'].std()}\")"
   ]
  },
  {
   "cell_type": "code",
   "execution_count": null,
   "id": "14a16f6e-5bd2-46e0-a31a-9c25b8550cf9",
   "metadata": {},
   "outputs": [],
   "source": [
    "#광역시도명을 인자로 받아서 해당 광역시에 속한 행정구역들의 인구수의 평균과 편차 구하기\n",
    "def pop_mean_std(df, sido_name):\n",
    "    sido_df = df.loc[data['광역시도'] == sido_name,'인구수':'행정구역']\n",
    "    print(f\"{sido_name} 인구수 평균 = {sido_df['인구수'].mean()}\")\n",
    "    print(f\"{sido_name} 인구수 편차 = {sido_df['인구수'].std()}\")"
   ]
  },
  {
   "cell_type": "code",
   "execution_count": null,
   "id": "03aa2e9d-49fe-4d42-a586-f21cd0ab3ab8",
   "metadata": {},
   "outputs": [],
   "source": [
    "pop_mean_std(data,'서울특별시')"
   ]
  },
  {
   "cell_type": "code",
   "execution_count": null,
   "id": "d97f4443-27f1-4cd1-a856-6f5117129721",
   "metadata": {},
   "outputs": [],
   "source": [
    "# Unique한 광역시도명 순회하면서  광역시도명을 출력합니다. \n",
    "for sido_name in data['광역시도'].unique():\n",
    "    pop_mean_std(data, sido_name)"
   ]
  },
  {
   "cell_type": "code",
   "execution_count": null,
   "id": "cf7b2d84-7e4f-473e-9506-e36b3a0aa80f",
   "metadata": {},
   "outputs": [],
   "source": [
    "#loc[] 사용\n",
    "#인덱스가 20 부터 25까지\n",
    "data.loc[20:25]\n"
   ]
  },
  {
   "cell_type": "code",
   "execution_count": null,
   "id": "762ac8a8-348a-4c38-b387-bffc92025bdd",
   "metadata": {},
   "outputs": [],
   "source": [
    "#iloc[] 사용\n",
    "#인덱스가 20 부터 24까지\n",
    "data.iloc[20:25]"
   ]
  },
  {
   "cell_type": "code",
   "execution_count": null,
   "id": "f1ef1247-9423-4a5d-8f1a-6e8c594bce9e",
   "metadata": {},
   "outputs": [],
   "source": [
    "# !!!----- iloc[row index, column index] 사용 -----!!! (column 이름 못 씀. index로 접근) \n",
    "# 인덱스가 20 부터 25까지 컬럼이 인구수부터 행정구역 까지\n",
    "data.iloc[20:26, 1:8]"
   ]
  },
  {
   "cell_type": "code",
   "execution_count": null,
   "id": "aa881cc0-2caa-4f91-98a8-30f34ed59fb4",
   "metadata": {},
   "outputs": [],
   "source": [
    "# index가 40,55,60 이고, column이 인구수,광역시도,행정구역\n",
    "\n",
    "# loc[] 사용\n",
    "data.loc[[40, 55, 60], ['인구수', '광역시도', '행정구역']]\n",
    "\n",
    "# iloc[] 사용\n",
    "# data.loc[[40, 55, 60], [1, 6, 7]]"
   ]
  },
  {
   "cell_type": "code",
   "execution_count": null,
   "id": "4d847b81-edb1-4f8d-9d54-306453b2784d",
   "metadata": {},
   "outputs": [],
   "source": [
    "# 인덱스가 0인 행 하나만 선택\n",
    "# DataFrame에서 row나 column 하나를 선택하면 series type\n",
    "print(type(data.loc[0]))\n",
    "data.loc[0]"
   ]
  },
  {
   "cell_type": "code",
   "execution_count": null,
   "id": "8d42d1fe-4e5e-4fca-b1a7-389a9d0b4c3e",
   "metadata": {},
   "outputs": [],
   "source": [
    "#열 하나만 선택\n",
    "print(type(data['면적'].head()))\n",
    "data['면적'].head()"
   ]
  },
  {
   "cell_type": "markdown",
   "id": "cf270f25-cfed-44f6-8c53-637571e55426",
   "metadata": {},
   "source": [
    "### 컬럼명 변경하기, 컬럼을 인덱스 전환하기\n",
    "* rename() 함수\n",
    "* inPlace=False (default) 원본 DataFrame객체를 변경하지 않고, 변경한 결과만 출력한다.\n",
    "* inPlace=True 원본 DataFrame객체를 변경하고, 변경한 결과는 출력하지 않는다."
   ]
  },
  {
   "cell_type": "code",
   "execution_count": null,
   "id": "ab79ad77-d9b0-4493-a2ea-40a94a2e5f7e",
   "metadata": {},
   "outputs": [],
   "source": [
    "data.columns"
   ]
  },
  {
   "cell_type": "code",
   "execution_count": null,
   "id": "e36aa348-934b-4785-8315-ff181da2de70",
   "metadata": {},
   "outputs": [],
   "source": [
    "# 'Unnamed: 0' 컬럼명을 'seq' 로 변경한다. 원본 객체는 변경되지 않고 변경된 결과만 출력함\n",
    "data.rename(columns={'Unnamed: 0': 'seq'})\n"
   ]
  },
  {
   "cell_type": "code",
   "execution_count": null,
   "id": "c6921624-f4e3-46fc-b08c-ad082366e30b",
   "metadata": {},
   "outputs": [],
   "source": [
    "#원본 객체가 변경되고 변경된 결과는 출력하지 않는다. (default가 inplace=False)\n",
    "data.rename(columns={'Unnamed: 0': 'seq'}, inplace=True)"
   ]
  },
  {
   "cell_type": "code",
   "execution_count": 127,
   "id": "ee92cf6f-0223-4cee-aafa-6ff86a12193e",
   "metadata": {},
   "outputs": [],
   "source": [
    "# seq 컬럼을 인덱스로 변경한다 (원본 객체가 변경되지 않음. default가 inplace=False 이기 때문)\n",
    "# data.set_index('seq')\n",
    "data.set_index('seq', inplace=True)"
   ]
  },
  {
   "cell_type": "code",
   "execution_count": 128,
   "id": "c6aa7d95-e636-496e-9c1e-22c9d0ea21e8",
   "metadata": {},
   "outputs": [
    {
     "data": {
      "text/html": [
       "<div>\n",
       "<style scoped>\n",
       "    .dataframe tbody tr th:only-of-type {\n",
       "        vertical-align: middle;\n",
       "    }\n",
       "\n",
       "    .dataframe tbody tr th {\n",
       "        vertical-align: top;\n",
       "    }\n",
       "\n",
       "    .dataframe thead th {\n",
       "        text-align: right;\n",
       "    }\n",
       "</style>\n",
       "<table border=\"1\" class=\"dataframe\">\n",
       "  <thead>\n",
       "    <tr style=\"text-align: right;\">\n",
       "      <th></th>\n",
       "      <th>인구수</th>\n",
       "      <th>shortName</th>\n",
       "      <th>x</th>\n",
       "      <th>y</th>\n",
       "      <th>면적</th>\n",
       "      <th>광역시도</th>\n",
       "      <th>행정구역</th>\n",
       "    </tr>\n",
       "    <tr>\n",
       "      <th>seq</th>\n",
       "      <th></th>\n",
       "      <th></th>\n",
       "      <th></th>\n",
       "      <th></th>\n",
       "      <th></th>\n",
       "      <th></th>\n",
       "      <th></th>\n",
       "    </tr>\n",
       "  </thead>\n",
       "  <tbody>\n",
       "    <tr>\n",
       "      <th>0</th>\n",
       "      <td>202520</td>\n",
       "      <td>강릉</td>\n",
       "      <td>11</td>\n",
       "      <td>4</td>\n",
       "      <td>1040.07</td>\n",
       "      <td>강원도</td>\n",
       "      <td>강릉시</td>\n",
       "    </tr>\n",
       "    <tr>\n",
       "      <th>1</th>\n",
       "      <td>25589</td>\n",
       "      <td>고성(강원)</td>\n",
       "      <td>9</td>\n",
       "      <td>0</td>\n",
       "      <td>664.19</td>\n",
       "      <td>강원도</td>\n",
       "      <td>고성군</td>\n",
       "    </tr>\n",
       "    <tr>\n",
       "      <th>2</th>\n",
       "      <td>86747</td>\n",
       "      <td>동해</td>\n",
       "      <td>11</td>\n",
       "      <td>5</td>\n",
       "      <td>180.01</td>\n",
       "      <td>강원도</td>\n",
       "      <td>동해시</td>\n",
       "    </tr>\n",
       "  </tbody>\n",
       "</table>\n",
       "</div>"
      ],
      "text/plain": [
       "        인구수 shortName   x  y       면적 광역시도 행정구역\n",
       "seq                                            \n",
       "0    202520        강릉  11  4  1040.07  강원도  강릉시\n",
       "1     25589    고성(강원)   9  0   664.19  강원도  고성군\n",
       "2     86747        동해  11  5   180.01  강원도  동해시"
      ]
     },
     "execution_count": 128,
     "metadata": {},
     "output_type": "execute_result"
    }
   ],
   "source": [
    "data.head(3)"
   ]
  },
  {
   "cell_type": "markdown",
   "id": "da929451-3b76-48e5-8054-40d1360493cf",
   "metadata": {},
   "source": [
    "### DataFrame을 Excel file로 저장하기\n",
    "* 인구수가 평균보다 작은 행정구역, 광역시도, 인구수를 선택해서 DataFrame생성하기\n",
    "* DataFrame의 to_excel() 함수 사용"
   ]
  },
  {
   "cell_type": "code",
   "execution_count": 130,
   "id": "13349b49-544d-4184-b464-7fbb50aeb34f",
   "metadata": {},
   "outputs": [
    {
     "name": "stdout",
     "output_type": "stream",
     "text": [
      "211089.77729257641\n",
      "211090\n",
      "211089.78\n"
     ]
    }
   ],
   "source": [
    "# 인구수의 평균값 구하기\n",
    "pop_mean_value=data['인구수'].mean()\n",
    "print(pop_mean_value)\n",
    "print(round(pop_mean_value))\n",
    "print(f'{pop_mean_value:.2f}')"
   ]
  },
  {
   "cell_type": "code",
   "execution_count": 139,
   "id": "a1b6a307-75e8-4dea-864b-1d6dece7bec5",
   "metadata": {},
   "outputs": [
    {
     "data": {
      "text/html": [
       "<div>\n",
       "<style scoped>\n",
       "    .dataframe tbody tr th:only-of-type {\n",
       "        vertical-align: middle;\n",
       "    }\n",
       "\n",
       "    .dataframe tbody tr th {\n",
       "        vertical-align: top;\n",
       "    }\n",
       "\n",
       "    .dataframe thead th {\n",
       "        text-align: right;\n",
       "    }\n",
       "</style>\n",
       "<table border=\"1\" class=\"dataframe\">\n",
       "  <thead>\n",
       "    <tr style=\"text-align: right;\">\n",
       "      <th></th>\n",
       "      <th>광역시도</th>\n",
       "      <th>행정구역</th>\n",
       "      <th>인구수</th>\n",
       "    </tr>\n",
       "  </thead>\n",
       "  <tbody>\n",
       "    <tr>\n",
       "      <th>0</th>\n",
       "      <td>강원도</td>\n",
       "      <td>강릉시</td>\n",
       "      <td>202520</td>\n",
       "    </tr>\n",
       "    <tr>\n",
       "      <th>1</th>\n",
       "      <td>강원도</td>\n",
       "      <td>동해시</td>\n",
       "      <td>86747</td>\n",
       "    </tr>\n",
       "    <tr>\n",
       "      <th>2</th>\n",
       "      <td>강원도</td>\n",
       "      <td>속초시</td>\n",
       "      <td>76733</td>\n",
       "    </tr>\n",
       "    <tr>\n",
       "      <th>3</th>\n",
       "      <td>강원도</td>\n",
       "      <td>삼척시</td>\n",
       "      <td>63986</td>\n",
       "    </tr>\n",
       "    <tr>\n",
       "      <th>4</th>\n",
       "      <td>강원도</td>\n",
       "      <td>홍천군</td>\n",
       "      <td>62957</td>\n",
       "    </tr>\n",
       "  </tbody>\n",
       "</table>\n",
       "</div>"
      ],
      "text/plain": [
       "  광역시도 행정구역     인구수\n",
       "0  강원도  강릉시  202520\n",
       "1  강원도  동해시   86747\n",
       "2  강원도  속초시   76733\n",
       "3  강원도  삼척시   63986\n",
       "4  강원도  홍천군   62957"
      ]
     },
     "execution_count": 139,
     "metadata": {},
     "output_type": "execute_result"
    }
   ],
   "source": [
    "# 인구수의 평균값보다 작은 Row를 선택하고, '광역시도','행정구역','인구수' 컬럼값을 가져오기\n",
    "# 정렬할때 광역시도는 ascending으로 , 인구수는 descending\n",
    "pop_mean_lt_df = data.loc[data['인구수'] < pop_mean_value, ['광역시도', '행정구역', '인구수']]\\\n",
    "  .sort_values(by=['광역시도', '인구수'], ascending=[True, False]).reset_index(drop=True)\n",
    "\n",
    "pop_mean_lt_df.head()"
   ]
  },
  {
   "cell_type": "code",
   "execution_count": 140,
   "id": "84b01289-61fa-4517-aedb-795c1843db86",
   "metadata": {},
   "outputs": [],
   "source": [
    "# DataFrame의 to_excel() 함수를 사용하여 excel 파일로 저장\n",
    "pop_mean_lt_df.to_excel('data/평균인구수미만지역.xlsx')"
   ]
  },
  {
   "cell_type": "markdown",
   "id": "e84c3ed5-9ee6-4f7d-a1c8-2fa81db6de0e",
   "metadata": {},
   "source": [
    "### GroupBy 기능 사용하기\n",
    "* 광역시도별 행정구역의 인구수 합계\n",
    "* ~별에 해당하는 컬럼명이나 컬럼값을 groupby() 함수의 인자로 전달한다.\n",
    "* Series 객체의 groupby(data['광역시도']) 함수는 컬럼의 값을 인자로 전달하고\n",
    "* DataFrame 객체의 groupby('광역시도') 함수는 컬럼명을 인자로 전달합니다."
   ]
  },
  {
   "cell_type": "code",
   "execution_count": 143,
   "id": "a02147d0-0a8f-4f7f-b44b-355f7db71a54",
   "metadata": {},
   "outputs": [
    {
     "name": "stdout",
     "output_type": "stream",
     "text": [
      "<class 'pandas.core.groupby.generic.SeriesGroupBy'>\n"
     ]
    },
    {
     "data": {
      "text/plain": [
       "광역시도\n",
       "강원도         1429438\n",
       "경기도        11744210\n",
       "경상남도        3144487\n",
       "경상북도        2508964\n",
       "광주광역시       1438209\n",
       "대구광역시       2378450\n",
       "대전광역시       1467677\n",
       "부산광역시       3323591\n",
       "서울특별시       9394807\n",
       "세종특별자치시      191233\n",
       "울산광역시       1105585\n",
       "인천광역시       2766575\n",
       "전라남도        1700563\n",
       "전라북도        1739048\n",
       "제주특별자치도      575873\n",
       "충청남도        1946129\n",
       "충청북도        1484720\n",
       "Name: 인구수, dtype: int64"
      ]
     },
     "execution_count": 143,
     "metadata": {},
     "output_type": "execute_result"
    }
   ],
   "source": [
    "# Series 객체 사용 - 광역시도별 인구수의 합계 \n",
    "# SeriesGroupBy object\n",
    "print(type(data['인구수'].groupby(data['광역시도'])))\n",
    "\n",
    "data['인구수'].groupby(data['광역시도']).sum()"
   ]
  },
  {
   "cell_type": "code",
   "execution_count": null,
   "id": "642e6dfb",
   "metadata": {},
   "outputs": [],
   "source": [
    "# data.groupby('광역시도').sum()\n",
    "data.groupby('광역시도').sum(numeric_only=True)"
   ]
  },
  {
   "cell_type": "code",
   "execution_count": 153,
   "id": "08aba13d-2400-41e1-9c92-6cdb51dfaf1c",
   "metadata": {},
   "outputs": [
    {
     "name": "stdout",
     "output_type": "stream",
     "text": [
      "<class 'pandas.core.groupby.generic.DataFrameGroupBy'>\n"
     ]
    }
   ],
   "source": [
    "# DataFrame 객체 사용 - 광역시도별 인구수의 합계 \n",
    "# DataFrameGroupBy object\n",
    "print(type(data.groupby('광역시도')))"
   ]
  },
  {
   "cell_type": "code",
   "execution_count": 152,
   "id": "89f468db-bd29-47b9-8363-77d1073260ea",
   "metadata": {},
   "outputs": [
    {
     "data": {
      "text/plain": [
       "<pandas.core.groupby.generic.SeriesGroupBy object at 0x00000293D81698E0>"
      ]
     },
     "execution_count": 152,
     "metadata": {},
     "output_type": "execute_result"
    }
   ],
   "source": [
    "# DataFrameGroupBy \n",
    "data.groupby('광역시도')['인구수']"
   ]
  },
  {
   "cell_type": "code",
   "execution_count": null,
   "id": "7989a0af-305e-4baf-bfe4-34f79f119e0d",
   "metadata": {},
   "outputs": [],
   "source": [
    "# 광역시도별 행정구역별 인구수의 합계\n",
    "data.groupby('광역시도')['인구수'].sum()"
   ]
  },
  {
   "cell_type": "code",
   "execution_count": 154,
   "id": "3fdb53a2-4111-4cdc-bc26-d14408cf85f4",
   "metadata": {},
   "outputs": [
    {
     "data": {
      "text/plain": [
       "광역시도\n",
       "경기도        11744210\n",
       "서울특별시       9394807\n",
       "부산광역시       3323591\n",
       "경상남도        3144487\n",
       "인천광역시       2766575\n",
       "경상북도        2508964\n",
       "대구광역시       2378450\n",
       "충청남도        1946129\n",
       "전라북도        1739048\n",
       "전라남도        1700563\n",
       "충청북도        1484720\n",
       "대전광역시       1467677\n",
       "광주광역시       1438209\n",
       "강원도         1429438\n",
       "울산광역시       1105585\n",
       "제주특별자치도      575873\n",
       "세종특별자치시      191233\n",
       "Name: 인구수, dtype: int64"
      ]
     },
     "execution_count": 154,
     "metadata": {},
     "output_type": "execute_result"
    }
   ],
   "source": [
    "# data/광역시도별행정구역별인구수의합계.xlsx 파일로 저장하기\n",
    "data.groupby('광역시도')['인구수'].sum().sort_values(ascending=False)  # dataframe에 대한 sort가 아니므로 조건 필요 X, default는 asc"
   ]
  },
  {
   "cell_type": "code",
   "execution_count": 160,
   "id": "2c59b083",
   "metadata": {},
   "outputs": [],
   "source": [
    "# data/광역시도별행정구역별인구수의합계.xlsx 파일로 저장하기\n",
    "group_df = data.groupby(['광역시도', '행정구역'])['인구수'].sum()\n",
    "group_df.head(10)\n",
    "group_df.to_excel('data/광역시도별행정구역별인구수의합계.xlsx', sheet_name='인구수')"
   ]
  },
  {
   "cell_type": "markdown",
   "id": "5a95ca84-dc6a-4f6f-b310-c93a58b6349f",
   "metadata": {},
   "source": [
    "### 엑셀 수치 데이터에 콤마찍기\n",
    "[pandas.ExcelWriter](https://pandas.pydata.org/docs/reference/api/pandas.ExcelWriter.html)"
   ]
  },
  {
   "cell_type": "code",
   "execution_count": null,
   "id": "242f05e1-03a9-488f-b598-dd7e4970dbf4",
   "metadata": {},
   "outputs": [
    {
     "name": "stdout",
     "output_type": "stream",
     "text": [
      "Name: XlsxWriter\n",
      "Version: 3.2.2\n",
      "Summary: A Python module for creating Excel XLSX files.\n",
      "Home-page: https://github.com/jmcnamara/XlsxWriter\n",
      "Author: John McNamara\n",
      "Author-email: jmcnamara@cpan.org\n",
      "License: BSD-2-Clause\n",
      "Location: c:\\Users\\user\\anaconda3\\Lib\\site-packages\n",
      "Requires: \n",
      "Required-by: \n",
      "Note: you may need to restart the kernel to use updated packages.\n"
     ]
    }
   ],
   "source": [
    "# %pip install xlsxwriter"
   ]
  },
  {
   "cell_type": "code",
   "execution_count": 168,
   "id": "b3de0503-4e24-4882-a778-ef60a9d9883c",
   "metadata": {},
   "outputs": [
    {
     "name": "stdout",
     "output_type": "stream",
     "text": [
      "<pandas.io.excel._xlsxwriter.XlsxWriter object at 0x00000293D82CB320>\n",
      "<xlsxwriter.workbook.Workbook object at 0x00000293D3B2C890>\n",
      "<xlsxwriter.worksheet.Worksheet object at 0x00000293D82C9D30>\n",
      "<xlsxwriter.format.Format object at 0x00000293D06165D0>\n"
     ]
    }
   ],
   "source": [
    "# Create a Pandas Excel writer using XlsxWriter as the engine.\n",
    "writer = pd.ExcelWriter('data/광역시도별인구수의합계1.xlsx', engine='xlsxwriter')\n",
    "\n",
    "# Convert the dataframe to an XlsxWriter Excel object.\n",
    "group_df.to_excel(writer, sheet_name='인구수합계')\n",
    "\n",
    "# Get the xlsxwriter workbook and worksheet objects.\n",
    "workbook  = writer.book\n",
    "worksheet = writer.sheets['인구수합계']\n",
    "\n",
    "# Set a currency number format for a column.\n",
    "num_format = workbook.add_format({'num_format': '#,###'})\n",
    "worksheet.set_column('C:C', None, num_format)\n",
    "\n",
    "# Close the Pandas Excel writer and output the Excel file.\n",
    "writer.close() #_save()\n",
    "\n",
    "print(writer)\n",
    "print(workbook)\n",
    "print(worksheet)\n",
    "print(num_format)"
   ]
  },
  {
   "cell_type": "markdown",
   "id": "dcbcfb22-78e1-4f23-82e6-f2e52206cf49",
   "metadata": {},
   "source": [
    "#### 상관계수 (Correlation Coefficient)\n",
    "* 인구수와 면적 데이터간에 관련성이 있는지 살펴보기 위해서 상관계수 구하기\n",
    "* 상관계수 값은 -1 ~ 1 사이의 값이며, 0에 가까울 수록 관련성이 낮고, 1에 가까울 수록 관련성이 높다. \n",
    "* 음수는 반비례 (면적이 넓은 반면 인구수는 적은 경우), 양수는 비례 (면적이 넓고, 인구수도 높은 경우)\n",
    "* corr() 함수"
   ]
  },
  {
   "cell_type": "code",
   "execution_count": 177,
   "id": "c56d6f9f-4126-4c42-bf5b-201e1a81b015",
   "metadata": {},
   "outputs": [
    {
     "data": {
      "text/plain": [
       "-0.3460351605045768"
      ]
     },
     "execution_count": 177,
     "metadata": {},
     "output_type": "execute_result"
    }
   ],
   "source": [
    "#전국의 면적과 인구수의 상관계수 구하기\n",
    "data['면적'].corr(data['인구수'])"
   ]
  },
  {
   "cell_type": "code",
   "execution_count": 179,
   "id": "737f50b7-6642-454c-9895-f5a9d9d1c439",
   "metadata": {},
   "outputs": [
    {
     "data": {
      "text/plain": [
       "0.6644268188909778"
      ]
     },
     "execution_count": 179,
     "metadata": {},
     "output_type": "execute_result"
    }
   ],
   "source": [
    "#서울의 면적과 인구수의 상관계수 구하기\n",
    "seoul_df = data.loc[data['광역시도'] == '서울특별시', ['행정구역', '인구수', '면적']]\n",
    "seoul_df['면적'].corr(seoul_df['인구수'])"
   ]
  },
  {
   "cell_type": "code",
   "execution_count": 175,
   "id": "2babd22a-7b7c-4d87-bfb4-8d113eeca586",
   "metadata": {},
   "outputs": [
    {
     "data": {
      "text/plain": [
       "-0.21572485071590813"
      ]
     },
     "execution_count": 175,
     "metadata": {},
     "output_type": "execute_result"
    }
   ],
   "source": [
    "#경기도의 면적과 인구수의 상관계수 구하기\n",
    "gy_df = data.loc[data['광역시도'] == '경기도', ['행정구역', '인구수', '면적']]\n",
    "gy_df['면적'].corr(gy_df['인구수'])"
   ]
  },
  {
   "cell_type": "markdown",
   "id": "209847da-89e5-4f4d-a0e4-4c1b25590cd4",
   "metadata": {},
   "source": [
    "#### Groupby 한 DataFrame에 집계함수를 여러개 설정하기\n",
    "* agg() 함수\n",
    "* agg(['max','mean','std'])"
   ]
  },
  {
   "cell_type": "code",
   "execution_count": 192,
   "id": "f774da3c-a6c6-4537-889f-9a4688c55754",
   "metadata": {},
   "outputs": [
    {
     "data": {
      "text/html": [
       "<div>\n",
       "<style scoped>\n",
       "    .dataframe tbody tr th:only-of-type {\n",
       "        vertical-align: middle;\n",
       "    }\n",
       "\n",
       "    .dataframe tbody tr th {\n",
       "        vertical-align: top;\n",
       "    }\n",
       "\n",
       "    .dataframe thead th {\n",
       "        text-align: right;\n",
       "    }\n",
       "</style>\n",
       "<table border=\"1\" class=\"dataframe\">\n",
       "  <thead>\n",
       "    <tr style=\"text-align: right;\">\n",
       "      <th></th>\n",
       "      <th>max</th>\n",
       "      <th>min</th>\n",
       "      <th>std</th>\n",
       "      <th>mean</th>\n",
       "    </tr>\n",
       "    <tr>\n",
       "      <th>광역시도</th>\n",
       "      <th></th>\n",
       "      <th></th>\n",
       "      <th></th>\n",
       "      <th></th>\n",
       "    </tr>\n",
       "  </thead>\n",
       "  <tbody>\n",
       "    <tr>\n",
       "      <th>강원도</th>\n",
       "      <td>313851</td>\n",
       "      <td>20809</td>\n",
       "      <td>87316.383238</td>\n",
       "      <td>79413.222222</td>\n",
       "    </tr>\n",
       "    <tr>\n",
       "      <th>경기도</th>\n",
       "      <td>1125461</td>\n",
       "      <td>41076</td>\n",
       "      <td>304548.395142</td>\n",
       "      <td>378845.483871</td>\n",
       "    </tr>\n",
       "    <tr>\n",
       "      <th>경상남도</th>\n",
       "      <td>1010040</td>\n",
       "      <td>25091</td>\n",
       "      <td>245796.465077</td>\n",
       "      <td>174693.722222</td>\n",
       "    </tr>\n",
       "    <tr>\n",
       "      <th>경상북도</th>\n",
       "      <td>488395</td>\n",
       "      <td>8392</td>\n",
       "      <td>124954.740885</td>\n",
       "      <td>109085.391304</td>\n",
       "    </tr>\n",
       "    <tr>\n",
       "      <th>광주광역시</th>\n",
       "      <td>439683</td>\n",
       "      <td>97571</td>\n",
       "      <td>137076.683206</td>\n",
       "      <td>287641.800000</td>\n",
       "    </tr>\n",
       "    <tr>\n",
       "      <th>대구광역시</th>\n",
       "      <td>584517</td>\n",
       "      <td>74950</td>\n",
       "      <td>174375.394380</td>\n",
       "      <td>297306.250000</td>\n",
       "    </tr>\n",
       "    <tr>\n",
       "      <th>대전광역시</th>\n",
       "      <td>475094</td>\n",
       "      <td>190815</td>\n",
       "      <td>111853.571882</td>\n",
       "      <td>293535.400000</td>\n",
       "    </tr>\n",
       "    <tr>\n",
       "      <th>부산광역시</th>\n",
       "      <td>397134</td>\n",
       "      <td>43105</td>\n",
       "      <td>106246.041384</td>\n",
       "      <td>207724.437500</td>\n",
       "    </tr>\n",
       "    <tr>\n",
       "      <th>서울특별시</th>\n",
       "      <td>615487</td>\n",
       "      <td>114967</td>\n",
       "      <td>125231.247975</td>\n",
       "      <td>375792.280000</td>\n",
       "    </tr>\n",
       "    <tr>\n",
       "      <th>세종특별자치시</th>\n",
       "      <td>191233</td>\n",
       "      <td>191233</td>\n",
       "      <td>0.000000</td>\n",
       "      <td>191233.000000</td>\n",
       "    </tr>\n",
       "    <tr>\n",
       "      <th>울산광역시</th>\n",
       "      <td>327270</td>\n",
       "      <td>164738</td>\n",
       "      <td>64163.286582</td>\n",
       "      <td>221117.000000</td>\n",
       "    </tr>\n",
       "    <tr>\n",
       "      <th>인천광역시</th>\n",
       "      <td>527153</td>\n",
       "      <td>17735</td>\n",
       "      <td>199353.596491</td>\n",
       "      <td>276657.500000</td>\n",
       "    </tr>\n",
       "    <tr>\n",
       "      <th>전라남도</th>\n",
       "      <td>263166</td>\n",
       "      <td>23189</td>\n",
       "      <td>74413.253230</td>\n",
       "      <td>77298.318182</td>\n",
       "    </tr>\n",
       "    <tr>\n",
       "      <th>전라북도</th>\n",
       "      <td>630708</td>\n",
       "      <td>20492</td>\n",
       "      <td>168327.134821</td>\n",
       "      <td>124217.714286</td>\n",
       "    </tr>\n",
       "    <tr>\n",
       "      <th>제주특별자치도</th>\n",
       "      <td>430504</td>\n",
       "      <td>145369</td>\n",
       "      <td>201620.892054</td>\n",
       "      <td>287936.500000</td>\n",
       "    </tr>\n",
       "    <tr>\n",
       "      <th>충청남도</th>\n",
       "      <td>584912</td>\n",
       "      <td>29671</td>\n",
       "      <td>141125.108080</td>\n",
       "      <td>129741.933333</td>\n",
       "    </tr>\n",
       "    <tr>\n",
       "      <th>충청북도</th>\n",
       "      <td>790216</td>\n",
       "      <td>27130</td>\n",
       "      <td>223460.356657</td>\n",
       "      <td>134974.545455</td>\n",
       "    </tr>\n",
       "  </tbody>\n",
       "</table>\n",
       "</div>"
      ],
      "text/plain": [
       "             max     min            std           mean\n",
       "광역시도                                                  \n",
       "강원도       313851   20809   87316.383238   79413.222222\n",
       "경기도      1125461   41076  304548.395142  378845.483871\n",
       "경상남도     1010040   25091  245796.465077  174693.722222\n",
       "경상북도      488395    8392  124954.740885  109085.391304\n",
       "광주광역시     439683   97571  137076.683206  287641.800000\n",
       "대구광역시     584517   74950  174375.394380  297306.250000\n",
       "대전광역시     475094  190815  111853.571882  293535.400000\n",
       "부산광역시     397134   43105  106246.041384  207724.437500\n",
       "서울특별시     615487  114967  125231.247975  375792.280000\n",
       "세종특별자치시   191233  191233       0.000000  191233.000000\n",
       "울산광역시     327270  164738   64163.286582  221117.000000\n",
       "인천광역시     527153   17735  199353.596491  276657.500000\n",
       "전라남도      263166   23189   74413.253230   77298.318182\n",
       "전라북도      630708   20492  168327.134821  124217.714286\n",
       "제주특별자치도   430504  145369  201620.892054  287936.500000\n",
       "충청남도      584912   29671  141125.108080  129741.933333\n",
       "충청북도      790216   27130  223460.356657  134974.545455"
      ]
     },
     "execution_count": 192,
     "metadata": {},
     "output_type": "execute_result"
    }
   ],
   "source": [
    "# agg() 함수 사용하여 여러개의 통계함수를 사용합니다. \n",
    "# fillna(0) NaN 을 0 으로 변경해 줌\n",
    "\n",
    "# data.groupby('광역시도')['인구수'].sum()\n",
    "# data.groupby('광역시도')['인구수'].agg('sum')\n",
    "data.groupby('광역시도')['인구수'].agg(['max', 'min', 'std', 'mean']).fillna(0)\n"
   ]
  },
  {
   "cell_type": "code",
   "execution_count": 193,
   "id": "18fed7bd-2728-432a-95bd-da906edc0354",
   "metadata": {},
   "outputs": [
    {
     "data": {
      "text/html": [
       "<div>\n",
       "<style scoped>\n",
       "    .dataframe tbody tr th:only-of-type {\n",
       "        vertical-align: middle;\n",
       "    }\n",
       "\n",
       "    .dataframe tbody tr th {\n",
       "        vertical-align: top;\n",
       "    }\n",
       "\n",
       "    .dataframe thead th {\n",
       "        text-align: right;\n",
       "    }\n",
       "</style>\n",
       "<table border=\"1\" class=\"dataframe\">\n",
       "  <thead>\n",
       "    <tr style=\"text-align: right;\">\n",
       "      <th></th>\n",
       "      <th>max</th>\n",
       "      <th>min</th>\n",
       "      <th>std</th>\n",
       "      <th>mean</th>\n",
       "    </tr>\n",
       "    <tr>\n",
       "      <th>광역시도</th>\n",
       "      <th></th>\n",
       "      <th></th>\n",
       "      <th></th>\n",
       "      <th></th>\n",
       "    </tr>\n",
       "  </thead>\n",
       "  <tbody>\n",
       "    <tr>\n",
       "      <th>경기도</th>\n",
       "      <td>1125461</td>\n",
       "      <td>41076</td>\n",
       "      <td>304548.395142</td>\n",
       "      <td>378845.483871</td>\n",
       "    </tr>\n",
       "    <tr>\n",
       "      <th>경상남도</th>\n",
       "      <td>1010040</td>\n",
       "      <td>25091</td>\n",
       "      <td>245796.465077</td>\n",
       "      <td>174693.722222</td>\n",
       "    </tr>\n",
       "    <tr>\n",
       "      <th>충청북도</th>\n",
       "      <td>790216</td>\n",
       "      <td>27130</td>\n",
       "      <td>223460.356657</td>\n",
       "      <td>134974.545455</td>\n",
       "    </tr>\n",
       "    <tr>\n",
       "      <th>제주특별자치도</th>\n",
       "      <td>430504</td>\n",
       "      <td>145369</td>\n",
       "      <td>201620.892054</td>\n",
       "      <td>287936.500000</td>\n",
       "    </tr>\n",
       "    <tr>\n",
       "      <th>인천광역시</th>\n",
       "      <td>527153</td>\n",
       "      <td>17735</td>\n",
       "      <td>199353.596491</td>\n",
       "      <td>276657.500000</td>\n",
       "    </tr>\n",
       "    <tr>\n",
       "      <th>대구광역시</th>\n",
       "      <td>584517</td>\n",
       "      <td>74950</td>\n",
       "      <td>174375.394380</td>\n",
       "      <td>297306.250000</td>\n",
       "    </tr>\n",
       "    <tr>\n",
       "      <th>전라북도</th>\n",
       "      <td>630708</td>\n",
       "      <td>20492</td>\n",
       "      <td>168327.134821</td>\n",
       "      <td>124217.714286</td>\n",
       "    </tr>\n",
       "    <tr>\n",
       "      <th>충청남도</th>\n",
       "      <td>584912</td>\n",
       "      <td>29671</td>\n",
       "      <td>141125.108080</td>\n",
       "      <td>129741.933333</td>\n",
       "    </tr>\n",
       "    <tr>\n",
       "      <th>광주광역시</th>\n",
       "      <td>439683</td>\n",
       "      <td>97571</td>\n",
       "      <td>137076.683206</td>\n",
       "      <td>287641.800000</td>\n",
       "    </tr>\n",
       "    <tr>\n",
       "      <th>서울특별시</th>\n",
       "      <td>615487</td>\n",
       "      <td>114967</td>\n",
       "      <td>125231.247975</td>\n",
       "      <td>375792.280000</td>\n",
       "    </tr>\n",
       "    <tr>\n",
       "      <th>경상북도</th>\n",
       "      <td>488395</td>\n",
       "      <td>8392</td>\n",
       "      <td>124954.740885</td>\n",
       "      <td>109085.391304</td>\n",
       "    </tr>\n",
       "    <tr>\n",
       "      <th>대전광역시</th>\n",
       "      <td>475094</td>\n",
       "      <td>190815</td>\n",
       "      <td>111853.571882</td>\n",
       "      <td>293535.400000</td>\n",
       "    </tr>\n",
       "    <tr>\n",
       "      <th>부산광역시</th>\n",
       "      <td>397134</td>\n",
       "      <td>43105</td>\n",
       "      <td>106246.041384</td>\n",
       "      <td>207724.437500</td>\n",
       "    </tr>\n",
       "    <tr>\n",
       "      <th>강원도</th>\n",
       "      <td>313851</td>\n",
       "      <td>20809</td>\n",
       "      <td>87316.383238</td>\n",
       "      <td>79413.222222</td>\n",
       "    </tr>\n",
       "    <tr>\n",
       "      <th>전라남도</th>\n",
       "      <td>263166</td>\n",
       "      <td>23189</td>\n",
       "      <td>74413.253230</td>\n",
       "      <td>77298.318182</td>\n",
       "    </tr>\n",
       "    <tr>\n",
       "      <th>울산광역시</th>\n",
       "      <td>327270</td>\n",
       "      <td>164738</td>\n",
       "      <td>64163.286582</td>\n",
       "      <td>221117.000000</td>\n",
       "    </tr>\n",
       "    <tr>\n",
       "      <th>세종특별자치시</th>\n",
       "      <td>191233</td>\n",
       "      <td>191233</td>\n",
       "      <td>0.000000</td>\n",
       "      <td>191233.000000</td>\n",
       "    </tr>\n",
       "  </tbody>\n",
       "</table>\n",
       "</div>"
      ],
      "text/plain": [
       "             max     min            std           mean\n",
       "광역시도                                                  \n",
       "경기도      1125461   41076  304548.395142  378845.483871\n",
       "경상남도     1010040   25091  245796.465077  174693.722222\n",
       "충청북도      790216   27130  223460.356657  134974.545455\n",
       "제주특별자치도   430504  145369  201620.892054  287936.500000\n",
       "인천광역시     527153   17735  199353.596491  276657.500000\n",
       "대구광역시     584517   74950  174375.394380  297306.250000\n",
       "전라북도      630708   20492  168327.134821  124217.714286\n",
       "충청남도      584912   29671  141125.108080  129741.933333\n",
       "광주광역시     439683   97571  137076.683206  287641.800000\n",
       "서울특별시     615487  114967  125231.247975  375792.280000\n",
       "경상북도      488395    8392  124954.740885  109085.391304\n",
       "대전광역시     475094  190815  111853.571882  293535.400000\n",
       "부산광역시     397134   43105  106246.041384  207724.437500\n",
       "강원도       313851   20809   87316.383238   79413.222222\n",
       "전라남도      263166   23189   74413.253230   77298.318182\n",
       "울산광역시     327270  164738   64163.286582  221117.000000\n",
       "세종특별자치시   191233  191233       0.000000  191233.000000"
      ]
     },
     "execution_count": 193,
     "metadata": {},
     "output_type": "execute_result"
    }
   ],
   "source": [
    "# agg() 함수 사용 - 그룹핑한 데이터를 여러개의 집계함수를 사용해서 새로운 DataFrame 객체 생성하기\n",
    "group_agg_df = data.groupby('광역시도')['인구수'].agg(['max', 'min', 'std', 'mean']).fillna(0).sort_values(by=\"std\", ascending=False)\n",
    "group_agg_df"
   ]
  },
  {
   "cell_type": "code",
   "execution_count": 194,
   "id": "89cab69e-ea06-4a17-bf39-ec08f87152e8",
   "metadata": {},
   "outputs": [
    {
     "data": {
      "text/html": [
       "<style type=\"text/css\">\n",
       "</style>\n",
       "<table id=\"T_218be\">\n",
       "  <thead>\n",
       "    <tr>\n",
       "      <th class=\"blank level0\" >&nbsp;</th>\n",
       "      <th id=\"T_218be_level0_col0\" class=\"col_heading level0 col0\" >max</th>\n",
       "      <th id=\"T_218be_level0_col1\" class=\"col_heading level0 col1\" >min</th>\n",
       "      <th id=\"T_218be_level0_col2\" class=\"col_heading level0 col2\" >std</th>\n",
       "      <th id=\"T_218be_level0_col3\" class=\"col_heading level0 col3\" >mean</th>\n",
       "    </tr>\n",
       "    <tr>\n",
       "      <th class=\"index_name level0\" >광역시도</th>\n",
       "      <th class=\"blank col0\" >&nbsp;</th>\n",
       "      <th class=\"blank col1\" >&nbsp;</th>\n",
       "      <th class=\"blank col2\" >&nbsp;</th>\n",
       "      <th class=\"blank col3\" >&nbsp;</th>\n",
       "    </tr>\n",
       "  </thead>\n",
       "  <tbody>\n",
       "    <tr>\n",
       "      <th id=\"T_218be_level0_row0\" class=\"row_heading level0 row0\" >경기도</th>\n",
       "      <td id=\"T_218be_row0_col0\" class=\"data row0 col0\" >1125461.00</td>\n",
       "      <td id=\"T_218be_row0_col1\" class=\"data row0 col1\" >41076.00</td>\n",
       "      <td id=\"T_218be_row0_col2\" class=\"data row0 col2\" >304548.40</td>\n",
       "      <td id=\"T_218be_row0_col3\" class=\"data row0 col3\" >378845.48</td>\n",
       "    </tr>\n",
       "    <tr>\n",
       "      <th id=\"T_218be_level0_row1\" class=\"row_heading level0 row1\" >경상남도</th>\n",
       "      <td id=\"T_218be_row1_col0\" class=\"data row1 col0\" >1010040.00</td>\n",
       "      <td id=\"T_218be_row1_col1\" class=\"data row1 col1\" >25091.00</td>\n",
       "      <td id=\"T_218be_row1_col2\" class=\"data row1 col2\" >245796.47</td>\n",
       "      <td id=\"T_218be_row1_col3\" class=\"data row1 col3\" >174693.72</td>\n",
       "    </tr>\n",
       "    <tr>\n",
       "      <th id=\"T_218be_level0_row2\" class=\"row_heading level0 row2\" >충청북도</th>\n",
       "      <td id=\"T_218be_row2_col0\" class=\"data row2 col0\" >790216.00</td>\n",
       "      <td id=\"T_218be_row2_col1\" class=\"data row2 col1\" >27130.00</td>\n",
       "      <td id=\"T_218be_row2_col2\" class=\"data row2 col2\" >223460.36</td>\n",
       "      <td id=\"T_218be_row2_col3\" class=\"data row2 col3\" >134974.55</td>\n",
       "    </tr>\n",
       "    <tr>\n",
       "      <th id=\"T_218be_level0_row3\" class=\"row_heading level0 row3\" >제주특별자치도</th>\n",
       "      <td id=\"T_218be_row3_col0\" class=\"data row3 col0\" >430504.00</td>\n",
       "      <td id=\"T_218be_row3_col1\" class=\"data row3 col1\" >145369.00</td>\n",
       "      <td id=\"T_218be_row3_col2\" class=\"data row3 col2\" >201620.89</td>\n",
       "      <td id=\"T_218be_row3_col3\" class=\"data row3 col3\" >287936.50</td>\n",
       "    </tr>\n",
       "    <tr>\n",
       "      <th id=\"T_218be_level0_row4\" class=\"row_heading level0 row4\" >인천광역시</th>\n",
       "      <td id=\"T_218be_row4_col0\" class=\"data row4 col0\" >527153.00</td>\n",
       "      <td id=\"T_218be_row4_col1\" class=\"data row4 col1\" >17735.00</td>\n",
       "      <td id=\"T_218be_row4_col2\" class=\"data row4 col2\" >199353.60</td>\n",
       "      <td id=\"T_218be_row4_col3\" class=\"data row4 col3\" >276657.50</td>\n",
       "    </tr>\n",
       "    <tr>\n",
       "      <th id=\"T_218be_level0_row5\" class=\"row_heading level0 row5\" >대구광역시</th>\n",
       "      <td id=\"T_218be_row5_col0\" class=\"data row5 col0\" >584517.00</td>\n",
       "      <td id=\"T_218be_row5_col1\" class=\"data row5 col1\" >74950.00</td>\n",
       "      <td id=\"T_218be_row5_col2\" class=\"data row5 col2\" >174375.39</td>\n",
       "      <td id=\"T_218be_row5_col3\" class=\"data row5 col3\" >297306.25</td>\n",
       "    </tr>\n",
       "    <tr>\n",
       "      <th id=\"T_218be_level0_row6\" class=\"row_heading level0 row6\" >전라북도</th>\n",
       "      <td id=\"T_218be_row6_col0\" class=\"data row6 col0\" >630708.00</td>\n",
       "      <td id=\"T_218be_row6_col1\" class=\"data row6 col1\" >20492.00</td>\n",
       "      <td id=\"T_218be_row6_col2\" class=\"data row6 col2\" >168327.13</td>\n",
       "      <td id=\"T_218be_row6_col3\" class=\"data row6 col3\" >124217.71</td>\n",
       "    </tr>\n",
       "    <tr>\n",
       "      <th id=\"T_218be_level0_row7\" class=\"row_heading level0 row7\" >충청남도</th>\n",
       "      <td id=\"T_218be_row7_col0\" class=\"data row7 col0\" >584912.00</td>\n",
       "      <td id=\"T_218be_row7_col1\" class=\"data row7 col1\" >29671.00</td>\n",
       "      <td id=\"T_218be_row7_col2\" class=\"data row7 col2\" >141125.11</td>\n",
       "      <td id=\"T_218be_row7_col3\" class=\"data row7 col3\" >129741.93</td>\n",
       "    </tr>\n",
       "    <tr>\n",
       "      <th id=\"T_218be_level0_row8\" class=\"row_heading level0 row8\" >광주광역시</th>\n",
       "      <td id=\"T_218be_row8_col0\" class=\"data row8 col0\" >439683.00</td>\n",
       "      <td id=\"T_218be_row8_col1\" class=\"data row8 col1\" >97571.00</td>\n",
       "      <td id=\"T_218be_row8_col2\" class=\"data row8 col2\" >137076.68</td>\n",
       "      <td id=\"T_218be_row8_col3\" class=\"data row8 col3\" >287641.80</td>\n",
       "    </tr>\n",
       "    <tr>\n",
       "      <th id=\"T_218be_level0_row9\" class=\"row_heading level0 row9\" >서울특별시</th>\n",
       "      <td id=\"T_218be_row9_col0\" class=\"data row9 col0\" >615487.00</td>\n",
       "      <td id=\"T_218be_row9_col1\" class=\"data row9 col1\" >114967.00</td>\n",
       "      <td id=\"T_218be_row9_col2\" class=\"data row9 col2\" >125231.25</td>\n",
       "      <td id=\"T_218be_row9_col3\" class=\"data row9 col3\" >375792.28</td>\n",
       "    </tr>\n",
       "    <tr>\n",
       "      <th id=\"T_218be_level0_row10\" class=\"row_heading level0 row10\" >경상북도</th>\n",
       "      <td id=\"T_218be_row10_col0\" class=\"data row10 col0\" >488395.00</td>\n",
       "      <td id=\"T_218be_row10_col1\" class=\"data row10 col1\" >8392.00</td>\n",
       "      <td id=\"T_218be_row10_col2\" class=\"data row10 col2\" >124954.74</td>\n",
       "      <td id=\"T_218be_row10_col3\" class=\"data row10 col3\" >109085.39</td>\n",
       "    </tr>\n",
       "    <tr>\n",
       "      <th id=\"T_218be_level0_row11\" class=\"row_heading level0 row11\" >대전광역시</th>\n",
       "      <td id=\"T_218be_row11_col0\" class=\"data row11 col0\" >475094.00</td>\n",
       "      <td id=\"T_218be_row11_col1\" class=\"data row11 col1\" >190815.00</td>\n",
       "      <td id=\"T_218be_row11_col2\" class=\"data row11 col2\" >111853.57</td>\n",
       "      <td id=\"T_218be_row11_col3\" class=\"data row11 col3\" >293535.40</td>\n",
       "    </tr>\n",
       "    <tr>\n",
       "      <th id=\"T_218be_level0_row12\" class=\"row_heading level0 row12\" >부산광역시</th>\n",
       "      <td id=\"T_218be_row12_col0\" class=\"data row12 col0\" >397134.00</td>\n",
       "      <td id=\"T_218be_row12_col1\" class=\"data row12 col1\" >43105.00</td>\n",
       "      <td id=\"T_218be_row12_col2\" class=\"data row12 col2\" >106246.04</td>\n",
       "      <td id=\"T_218be_row12_col3\" class=\"data row12 col3\" >207724.44</td>\n",
       "    </tr>\n",
       "    <tr>\n",
       "      <th id=\"T_218be_level0_row13\" class=\"row_heading level0 row13\" >강원도</th>\n",
       "      <td id=\"T_218be_row13_col0\" class=\"data row13 col0\" >313851.00</td>\n",
       "      <td id=\"T_218be_row13_col1\" class=\"data row13 col1\" >20809.00</td>\n",
       "      <td id=\"T_218be_row13_col2\" class=\"data row13 col2\" >87316.38</td>\n",
       "      <td id=\"T_218be_row13_col3\" class=\"data row13 col3\" >79413.22</td>\n",
       "    </tr>\n",
       "    <tr>\n",
       "      <th id=\"T_218be_level0_row14\" class=\"row_heading level0 row14\" >전라남도</th>\n",
       "      <td id=\"T_218be_row14_col0\" class=\"data row14 col0\" >263166.00</td>\n",
       "      <td id=\"T_218be_row14_col1\" class=\"data row14 col1\" >23189.00</td>\n",
       "      <td id=\"T_218be_row14_col2\" class=\"data row14 col2\" >74413.25</td>\n",
       "      <td id=\"T_218be_row14_col3\" class=\"data row14 col3\" >77298.32</td>\n",
       "    </tr>\n",
       "    <tr>\n",
       "      <th id=\"T_218be_level0_row15\" class=\"row_heading level0 row15\" >울산광역시</th>\n",
       "      <td id=\"T_218be_row15_col0\" class=\"data row15 col0\" >327270.00</td>\n",
       "      <td id=\"T_218be_row15_col1\" class=\"data row15 col1\" >164738.00</td>\n",
       "      <td id=\"T_218be_row15_col2\" class=\"data row15 col2\" >64163.29</td>\n",
       "      <td id=\"T_218be_row15_col3\" class=\"data row15 col3\" >221117.00</td>\n",
       "    </tr>\n",
       "    <tr>\n",
       "      <th id=\"T_218be_level0_row16\" class=\"row_heading level0 row16\" >세종특별자치시</th>\n",
       "      <td id=\"T_218be_row16_col0\" class=\"data row16 col0\" >191233.00</td>\n",
       "      <td id=\"T_218be_row16_col1\" class=\"data row16 col1\" >191233.00</td>\n",
       "      <td id=\"T_218be_row16_col2\" class=\"data row16 col2\" >0.00</td>\n",
       "      <td id=\"T_218be_row16_col3\" class=\"data row16 col3\" >191233.00</td>\n",
       "    </tr>\n",
       "  </tbody>\n",
       "</table>\n"
      ],
      "text/plain": [
       "<pandas.io.formats.style.Styler at 0x293d82774d0>"
      ]
     },
     "execution_count": 194,
     "metadata": {},
     "output_type": "execute_result"
    }
   ],
   "source": [
    "# DataFrame의 style.format() 함수 사용하기\n",
    "group_agg_df.style.format('{0:.2f}')"
   ]
  },
  {
   "cell_type": "code",
   "execution_count": 195,
   "id": "5be8d81f-d262-4968-9b30-a7871c695b79",
   "metadata": {},
   "outputs": [],
   "source": [
    "# 컬럼의 값을 변경하기 map() 함수를 사용하여 포맷하기\n",
    "group_agg_df['mean'] = group_agg_df['mean'].map('{:.2f}'.format)\n",
    "group_agg_df['std'] = group_agg_df['std'].map('{:.2f}'.format)"
   ]
  },
  {
   "cell_type": "code",
   "execution_count": 196,
   "id": "913d87ab",
   "metadata": {},
   "outputs": [
    {
     "data": {
      "text/html": [
       "<div>\n",
       "<style scoped>\n",
       "    .dataframe tbody tr th:only-of-type {\n",
       "        vertical-align: middle;\n",
       "    }\n",
       "\n",
       "    .dataframe tbody tr th {\n",
       "        vertical-align: top;\n",
       "    }\n",
       "\n",
       "    .dataframe thead th {\n",
       "        text-align: right;\n",
       "    }\n",
       "</style>\n",
       "<table border=\"1\" class=\"dataframe\">\n",
       "  <thead>\n",
       "    <tr style=\"text-align: right;\">\n",
       "      <th></th>\n",
       "      <th>max</th>\n",
       "      <th>min</th>\n",
       "      <th>std</th>\n",
       "      <th>mean</th>\n",
       "    </tr>\n",
       "    <tr>\n",
       "      <th>광역시도</th>\n",
       "      <th></th>\n",
       "      <th></th>\n",
       "      <th></th>\n",
       "      <th></th>\n",
       "    </tr>\n",
       "  </thead>\n",
       "  <tbody>\n",
       "    <tr>\n",
       "      <th>경기도</th>\n",
       "      <td>1125461</td>\n",
       "      <td>41076</td>\n",
       "      <td>304548.40</td>\n",
       "      <td>378845.48</td>\n",
       "    </tr>\n",
       "    <tr>\n",
       "      <th>경상남도</th>\n",
       "      <td>1010040</td>\n",
       "      <td>25091</td>\n",
       "      <td>245796.47</td>\n",
       "      <td>174693.72</td>\n",
       "    </tr>\n",
       "    <tr>\n",
       "      <th>충청북도</th>\n",
       "      <td>790216</td>\n",
       "      <td>27130</td>\n",
       "      <td>223460.36</td>\n",
       "      <td>134974.55</td>\n",
       "    </tr>\n",
       "    <tr>\n",
       "      <th>제주특별자치도</th>\n",
       "      <td>430504</td>\n",
       "      <td>145369</td>\n",
       "      <td>201620.89</td>\n",
       "      <td>287936.50</td>\n",
       "    </tr>\n",
       "    <tr>\n",
       "      <th>인천광역시</th>\n",
       "      <td>527153</td>\n",
       "      <td>17735</td>\n",
       "      <td>199353.60</td>\n",
       "      <td>276657.50</td>\n",
       "    </tr>\n",
       "    <tr>\n",
       "      <th>대구광역시</th>\n",
       "      <td>584517</td>\n",
       "      <td>74950</td>\n",
       "      <td>174375.39</td>\n",
       "      <td>297306.25</td>\n",
       "    </tr>\n",
       "    <tr>\n",
       "      <th>전라북도</th>\n",
       "      <td>630708</td>\n",
       "      <td>20492</td>\n",
       "      <td>168327.13</td>\n",
       "      <td>124217.71</td>\n",
       "    </tr>\n",
       "    <tr>\n",
       "      <th>충청남도</th>\n",
       "      <td>584912</td>\n",
       "      <td>29671</td>\n",
       "      <td>141125.11</td>\n",
       "      <td>129741.93</td>\n",
       "    </tr>\n",
       "    <tr>\n",
       "      <th>광주광역시</th>\n",
       "      <td>439683</td>\n",
       "      <td>97571</td>\n",
       "      <td>137076.68</td>\n",
       "      <td>287641.80</td>\n",
       "    </tr>\n",
       "    <tr>\n",
       "      <th>서울특별시</th>\n",
       "      <td>615487</td>\n",
       "      <td>114967</td>\n",
       "      <td>125231.25</td>\n",
       "      <td>375792.28</td>\n",
       "    </tr>\n",
       "    <tr>\n",
       "      <th>경상북도</th>\n",
       "      <td>488395</td>\n",
       "      <td>8392</td>\n",
       "      <td>124954.74</td>\n",
       "      <td>109085.39</td>\n",
       "    </tr>\n",
       "    <tr>\n",
       "      <th>대전광역시</th>\n",
       "      <td>475094</td>\n",
       "      <td>190815</td>\n",
       "      <td>111853.57</td>\n",
       "      <td>293535.40</td>\n",
       "    </tr>\n",
       "    <tr>\n",
       "      <th>부산광역시</th>\n",
       "      <td>397134</td>\n",
       "      <td>43105</td>\n",
       "      <td>106246.04</td>\n",
       "      <td>207724.44</td>\n",
       "    </tr>\n",
       "    <tr>\n",
       "      <th>강원도</th>\n",
       "      <td>313851</td>\n",
       "      <td>20809</td>\n",
       "      <td>87316.38</td>\n",
       "      <td>79413.22</td>\n",
       "    </tr>\n",
       "    <tr>\n",
       "      <th>전라남도</th>\n",
       "      <td>263166</td>\n",
       "      <td>23189</td>\n",
       "      <td>74413.25</td>\n",
       "      <td>77298.32</td>\n",
       "    </tr>\n",
       "    <tr>\n",
       "      <th>울산광역시</th>\n",
       "      <td>327270</td>\n",
       "      <td>164738</td>\n",
       "      <td>64163.29</td>\n",
       "      <td>221117.00</td>\n",
       "    </tr>\n",
       "    <tr>\n",
       "      <th>세종특별자치시</th>\n",
       "      <td>191233</td>\n",
       "      <td>191233</td>\n",
       "      <td>0.00</td>\n",
       "      <td>191233.00</td>\n",
       "    </tr>\n",
       "  </tbody>\n",
       "</table>\n",
       "</div>"
      ],
      "text/plain": [
       "             max     min        std       mean\n",
       "광역시도                                          \n",
       "경기도      1125461   41076  304548.40  378845.48\n",
       "경상남도     1010040   25091  245796.47  174693.72\n",
       "충청북도      790216   27130  223460.36  134974.55\n",
       "제주특별자치도   430504  145369  201620.89  287936.50\n",
       "인천광역시     527153   17735  199353.60  276657.50\n",
       "대구광역시     584517   74950  174375.39  297306.25\n",
       "전라북도      630708   20492  168327.13  124217.71\n",
       "충청남도      584912   29671  141125.11  129741.93\n",
       "광주광역시     439683   97571  137076.68  287641.80\n",
       "서울특별시     615487  114967  125231.25  375792.28\n",
       "경상북도      488395    8392  124954.74  109085.39\n",
       "대전광역시     475094  190815  111853.57  293535.40\n",
       "부산광역시     397134   43105  106246.04  207724.44\n",
       "강원도       313851   20809   87316.38   79413.22\n",
       "전라남도      263166   23189   74413.25   77298.32\n",
       "울산광역시     327270  164738   64163.29  221117.00\n",
       "세종특별자치시   191233  191233       0.00  191233.00"
      ]
     },
     "execution_count": 196,
     "metadata": {},
     "output_type": "execute_result"
    }
   ],
   "source": [
    "group_agg_df"
   ]
  },
  {
   "cell_type": "markdown",
   "id": "09e78059-5376-4a71-b5fb-793ad4ccf492",
   "metadata": {},
   "source": [
    "#### 시각화\n",
    "* %matplotlib inline 설정 (jupyter 에서는 show() 함수를 호출하지 않아도 plot이 출력된다)\n",
    "* 한글폰트 설정이 필요함\n",
    "* Plot에 대한 설정은 matplotlib의 함수를 사용하고, Plot을 그려주는 기능은 seaborn()의 함수를 사용합니다. "
   ]
  },
  {
   "cell_type": "code",
   "execution_count": null,
   "id": "a6d52c44-6967-4f05-9241-d85fbddd414c",
   "metadata": {},
   "outputs": [],
   "source": [
    "%matplotlib inline"
   ]
  },
  {
   "cell_type": "code",
   "execution_count": null,
   "id": "3f6fa9fa-cc69-40db-9066-2dce3734808b",
   "metadata": {},
   "outputs": [],
   "source": [
    "import matplotlib\n",
    "import matplotlib.pyplot as plt\n",
    "import matplotlib.font_manager as fm\n",
    "import seaborn as sns\n",
    "\n",
    "print('matplotlib ', matplotlib.__version__)\n",
    "print('seaborn ', sns.__version__)"
   ]
  },
  {
   "cell_type": "code",
   "execution_count": null,
   "id": "2a46d1a7-f0e3-4734-ba1a-b35c33443abe",
   "metadata": {},
   "outputs": [],
   "source": [
    "# for font in fm.fontManager.ttflist:\n",
    "#     print((font.name, font.fname))\n",
    "# 폰트이름과 폰트파일 정보 출력 list comprehension \n",
    "[ (font.name, font.fname) for font in fm.fontManager.ttflist if 'Mal' in font.name ] # if 'Mal' in font.name "
   ]
  },
  {
   "cell_type": "code",
   "execution_count": null,
   "id": "12c6d5b2-1312-4bb6-b9c8-3d15a5e8204f",
   "metadata": {},
   "outputs": [],
   "source": [
    "# font name을 알고 있다면 생략가능\n",
    "#한글폰트 path 설정\n",
    "font_path = 'C:\\\\windows\\\\Fonts\\\\malgun.ttf'\n",
    "#font의 파일정보로 font name 을 알아내기\n",
    "font_prop = fm.FontProperties(fname=font_path).get_name()\n",
    "print(font_prop)\n"
   ]
  },
  {
   "cell_type": "code",
   "execution_count": null,
   "id": "34468317-4ed8-4d94-89b7-792e8c7af781",
   "metadata": {},
   "outputs": [],
   "source": [
    "# matplotlib의 rc(run command) 함수를 사용해서 font name(Malgun Gothic) 설정\n",
    "matplotlib.rc('font', family=font_prop)"
   ]
  },
  {
   "cell_type": "markdown",
   "id": "6c1c7e25-ec4c-43f2-b791-a8d0633489c7",
   "metadata": {},
   "source": [
    "### Figure, Axes, Plot\n",
    "* Axes는 Plot이 실제 그려지는 공간\n",
    "* Figure는 Axes 보다 더 상위의 공간 : Figure을 여러개의 Axes로 분할해서 Plot를 그릴 수 있다\n",
    "* 비교) Axis는 X 축, Y축\n",
    "* seaborn의 barplot() 함수(막대그래프) 사용"
   ]
  },
  {
   "cell_type": "code",
   "execution_count": null,
   "id": "528bf99f-9b68-41eb-9be5-85abdbf9b23a",
   "metadata": {},
   "outputs": [],
   "source": [
    "seoul_df = data.loc[data['광역시도'] == '서울특별시']\n",
    "seoul_df.head(2)"
   ]
  },
  {
   "cell_type": "code",
   "execution_count": null,
   "id": "73fa3ee7-0b06-4fad-8347-c4c7874c249b",
   "metadata": {},
   "outputs": [],
   "source": [
    "# subplots() 함수를 사용하여 axes 객체를 생성하기\n",
    "figure,(axes1, axes2) = plt.subplots(nrows=2, ncols=1)\n",
    "figure.set_size_inches(18,12)\n",
    "# seaborn의 barplot() 함수 호출하기 - 행정구역과 인구수\n",
    "sns.barplot(data=seoul_df.sort_values(by=\"인구수\",ascending=False),\\\n",
    "    x='행정구역',y='인구수',ax=axes1, hue='행정구역')\n",
    "# seaborn의 barplot() 함수 호출하기 - 행정구역과 면적\n",
    "sns.barplot(data=seoul_df.sort_values(by=\"면적\",ascending=False),\\\n",
    "    x='행정구역',y='면적',ax=axes2, hue='행정구역')\n",
    "plt.show()\n"
   ]
  },
  {
   "cell_type": "code",
   "execution_count": null,
   "id": "3262a3a6-2cf9-4168-9847-0a41000551fb",
   "metadata": {},
   "outputs": [],
   "source": [
    "# 광역시도 이름을 인자로 받아서 인구수와 면적을 그려주는 함수\n",
    "def show_pop_area(sido_name):\n",
    "    # 입력받은 광역시도에 해당하는 DataFrame 객체생성\n",
    "    sido_df = data.loc[data['광역시도'] == sido_name]\n",
    "    # Figure와 Axes 객체 생성\n",
    "    figure, (axes1,axes2) = plt.subplots(nrows=2, ncols=1)\n",
    "    # Figure size 확대\n",
    "    figure.set_size_inches(18,12)\n",
    "    \n",
    "    pop_plot = sns.barplot(x='행정구역', y='인구수', data=sido_df.sort_values(by='인구수',ascending=False), ax=axes1,hue='행정구역')\n",
    "    pop_plot.set_title(f'{sido_name} 행정구역별 인구수')\n",
    "    area_plot = sns.barplot(x='행정구역', y='면적', data=sido_df.sort_values(by='면적',ascending=False), ax=axes2,hue='행정구역')\n",
    "    area_plot.set_title(f'{sido_name} 행정구역별 면적')\n",
    "    plt.show()"
   ]
  },
  {
   "cell_type": "code",
   "execution_count": null,
   "id": "0a64129b-6baf-4312-a221-a84360ab4806",
   "metadata": {},
   "outputs": [],
   "source": [
    "show_pop_area('경기도')"
   ]
  },
  {
   "cell_type": "code",
   "execution_count": null,
   "id": "84ec2150-d2cc-4e99-afcb-783913446bde",
   "metadata": {},
   "outputs": [],
   "source": [
    "# 전국데이터의 광역시도의 인구수 \n",
    "# 전국데이터의 광역시도의 인구수 \n",
    "figure, axes1 = plt.subplots(1,1)\n",
    "figure.set_size_inches(18,12)\n",
    "sns.barplot(x='광역시도', y='인구수', data=data, ax=axes1, hue='광역시도')\n",
    "plt.show()"
   ]
  },
  {
   "cell_type": "code",
   "execution_count": null,
   "id": "b2beb0fa-89b5-4660-bdc0-7a83625bd8fc",
   "metadata": {},
   "outputs": [],
   "source": [
    "figure, ax1 = plt.subplots(nrows=1, ncols=1)\n",
    "figure.set_size_inches(18,12)\n",
    "sns.barplot(data=seoul_df, x=\"행정구역\", y=\"인구수\", ax=ax1,hue='행정구역')\n",
    "\n",
    "# y축의 label값에 ,(콤마) 출력하기\n",
    "ax1.get_yaxis().set_major_formatter(plt.FuncFormatter(lambda x, loc: \"{:,}\".format(int(x))))\n",
    "\n",
    "for item in ax1.get_xticklabels(): \n",
    "    item.set_rotation(90)\n",
    "for i, v in enumerate(seoul_df[\"인구수\"].items()):\n",
    "    ax1.text(i ,v[1], \"{:,}\".format(v[1]), color='m', va ='bottom', rotation=45)\n",
    "plt.tight_layout()"
   ]
  },
  {
   "cell_type": "code",
   "execution_count": null,
   "id": "361f158f-d001-454f-9d15-9df136248328",
   "metadata": {},
   "outputs": [],
   "source": []
  }
 ],
 "metadata": {
  "kernelspec": {
   "display_name": "base",
   "language": "python",
   "name": "python3"
  },
  "language_info": {
   "codemirror_mode": {
    "name": "ipython",
    "version": 3
   },
   "file_extension": ".py",
   "mimetype": "text/x-python",
   "name": "python",
   "nbconvert_exporter": "python",
   "pygments_lexer": "ipython3",
   "version": "3.12.7"
  }
 },
 "nbformat": 4,
 "nbformat_minor": 5
}
